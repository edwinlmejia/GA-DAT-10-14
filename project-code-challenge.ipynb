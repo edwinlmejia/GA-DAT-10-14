{
  "cells": [
    {
      "metadata": {},
      "cell_type": "markdown",
      "source": "<img src=\"http://imgur.com/1ZcRyrc.png\" style=\"float: left; margin: 20px; height: 55px\">\n\n# Project 1: Python Coding Exercises\n\n_Authors: Joseph Nelson (DC) _\n\n---"
    },
    {
      "metadata": {},
      "cell_type": "markdown",
      "source": "The following code challenges are drawn from common exercises used in technical interviews.\n\nPlease note that there may be several ways to approach each challenge. If you get stuck, try mapping out your approach in pseudocode first. Finally, while solutions to problems like these may be found online, remember that if you copy/paste code that you can't explain, you'll be missing out on the point of the project. The only way to truly learn a new skill is through practice, trial, and error - we can only help you improve by understanding where you are having trouble."
    },
    {
      "metadata": {},
      "cell_type": "markdown",
      "source": "### Challenge 1: Largest Palindrome\nA palindromic number reads the same both ways. For example, 1234321 is a palindrome. The largest palindrome made from the product of two two-digit numbers is 9009 = 91 × 99. Find the largest palindrome made from the product of two three-digit numbers. Afterward, write a brief explanation walking through your code's logic in markdown."
    },
    {
      "metadata": {},
      "cell_type": "markdown",
      "source": "##**EXPLANATION**\n> - 1- Defined 3 lists two of them with three-digits numbers each and an empty list.\n> - 2- Created a loop and a nested loop to iterate and multiply all numbers between each list.\n> - 3- Using an IF I compared my producft number with its reverse.\n> - 4- Append to new list numbers that match with reverse.\n> - 5- Print results."
    },
    {
      "metadata": {
        "trusted": true,
        "scrolled": true
      },
      "cell_type": "code",
      "source": "numa = list(range(100,1000))\nnumb = list(range(100,1000))\nnumc = []\n\nfor i in numa: \n    for j in numb: \n        mult = i * j\n        if str(mult)  == str(mult)[::-1]:\n            numc.append(mult) #Append the result in the list C\n        \nprint(\"Max palindrome # is: \",max(numc))\nprint(\"Min palindrome # is: \",min(numc))",
      "execution_count": 1,
      "outputs": [
        {
          "output_type": "stream",
          "text": "Max palindrome # is:  906609\nMin palindrome # is:  10201\n",
          "name": "stdout"
        }
      ]
    },
    {
      "metadata": {},
      "cell_type": "markdown",
      "source": "\n### Challenge 2: Summation of Primes\nThe sum of the primes below 10 is 2 + 3 + 5 + 7 = 17. Find the sum of all the primes below 2,000. Afterward, write a brief explanation walking through your code's logic in markdown."
    },
    {
      "metadata": {},
      "cell_type": "markdown",
      "source": "##**EXPLANATION**\n> **Note: I know a function wasn't necessary but did it just for fun and practice.**\n> - 1- I send the max number as argument to the function to look for primes.\n> - 2- Defined 2 lists: One empty to store primes and another with all the numbers to be evaluated\n> - 3- Created a loop to iterate through numbers to be evaluated.\n> - 4- Created a nested loop ranging from 2 up to the number being evaluated;\n> - 5- Used an IF inside the loop to get the module between the current number and all the numbers below, if the result is 0 means is not a primer number since a prime number is a number greater than 1 whose only factors are 1 and itself.\n> - 6- Those numbers whose module are different than 0 will be appended to the a new list.\n> - 7- Using the function sum() I added all the prime numbers inside the list.\n> - 8- Print result."
    },
    {
      "metadata": {
        "trusted": true
      },
      "cell_type": "code",
      "source": "def prime_num(maxnum):\n    prime = []\n    numlist = list(range(2,maxnum))\n    #print (numlist)\n    for isprime in numlist:\n            \n            for prevnum in range(2,isprime):\n                if (isprime%prevnum) == 0:\n                   break\n            else:\n                prime.append(isprime)\n                                \n    #print (prime)               \n    print (\"Sum of all prime numbers below\",maxnum,\"is\",sum(prime))\n\nprime_num(2000)",
      "execution_count": 2,
      "outputs": [
        {
          "output_type": "stream",
          "text": "Sum of all prime numbers below 2000 is 277050\n",
          "name": "stdout"
        }
      ]
    },
    {
      "metadata": {},
      "cell_type": "markdown",
      "source": "### Challenge 3: Multiples of 3 and 5\nIf we list all of the natural numbers below 10 that are multiples of 3 or 5, we get 3, 5, 6, and 9. The sum of these multiples is 23. Find the sum of all the multiples of 3 and 5 below 1,000. Afterward, write a brief explanation walking through your code's logic in markdown."
    },
    {
      "metadata": {},
      "cell_type": "markdown",
      "source": "##**EXPLANATION**\n> **Note: I know a function wasn't necessary but did it just for fun and practice.**\n> - 1- Sent max number to function.\n> - 2- Using list comprehentions I go through all numbers getting modules for 3 and 5.\n> - 3- If one or both modules is 0 then is going to be passed to variable \"div\".\n> - 4- At the end I add all the multiples using generator expression \"sum()\".\n> - 5- Print result."
    },
    {
      "metadata": {
        "trusted": true
      },
      "cell_type": "code",
      "source": "def three_five(maxnum):\n    isdivisible=sum(div for div in range(maxnum) if div%3 == 0 or div%5 == 0)\n    print (\"Sum of all multiples of 3 or 5 up to\",maxnum,\"is\",isdivisible)\n\nthree_five(1000)\n                   ",
      "execution_count": 14,
      "outputs": [
        {
          "output_type": "stream",
          "text": "Sum of all multiples of 3 or 5 up to 1000 is 233168\n",
          "name": "stdout"
        }
      ]
    },
    {
      "metadata": {},
      "cell_type": "markdown",
      "source": "### Challenge 4: String Compressor\nImplement a method to perform basic string compression using the counts of repeated characters. (This is called run-length encoding.) For example, the string \"aabcccccaaa\" would become a2b1c5a3. If the “compressed” string would not become smaller than the original string, your method should return the original string. You can assume the string has only uppercase and lowercase letters (a–z). Specify whether your solution is case sensitive or case insensitive and what you would need to change to make it the other. Afterward, write a brief explanation walking through your code's logic in markdown."
    },
    {
      "metadata": {},
      "cell_type": "markdown",
      "source": "##**EXPLANATION**\n> **Note: I know a function wasn't necessary but did it just for fun and practice.**\n> - 1- Imported groupby function from iteratools module   \n> - 2- Defined a function that will process the word compression.\n> - 3- Defined a variable that will contain the compressed result\n> - 4- I created a loop passing the word to the group() function which will group by key, linked to a value variable. i.e.: it gets AAB it creates a  key A and iterable value [A,A] and another key B and iterable value [B] -ish\n> - 5- Then I concatenate the each key +  the lenght of it's iterable value and save it the container variable.\n> - 6- Print result."
    },
    {
      "metadata": {
        "trusted": true
      },
      "cell_type": "code",
      "source": "from itertools import groupby\n\ndef compressor(word2compress):\n    word_compressed =''\n    \n    for key,values in groupby(word2compress):\n        lettersc = key + str(len(list(values)))\n        word_compressed = word_compressed + letterscThen i concatenate  \n        \n    print (word_compressed)\n\n\ncompressor('aabcccccaaa')",
      "execution_count": 15,
      "outputs": [
        {
          "output_type": "stream",
          "text": "a2b1c5a3\n",
          "name": "stdout"
        }
      ]
    },
    {
      "metadata": {},
      "cell_type": "markdown",
      "source": "### *BONUS* Challenge: FizzBuzz\nWrite a program that prints all of the numbers from 1 to 100. For multiples of 3, instead of the number, print \"Fizz;\" for multiples of 5, print \"Buzz.\" For numbers that are multiples of both 3 and 5, print \"FizzBuzz.\" Afterward, write a brief explanation walking through your code's logic in markdown."
    },
    {
      "metadata": {},
      "cell_type": "markdown",
      "source": "##**EXPLANATION**\n> - 1- Defined an empty list that will hold the final result.\n> - 2- Defined a list with elements fizz, buzz and fizzbuzz.\n> - 3- Created a loop to iterate through numbers from 1 to 100.\n> - 4- Used IF conditinals to determine if the number is multiple of 3,5 or both by getthing the module.\n> - 5- Print results."
    },
    {
      "metadata": {
        "trusted": true
      },
      "cell_type": "code",
      "source": "fizzbuzz = []\nfb=['FizzBuzz','Fizz','Buzz']\n\nfor num in range(1,101):\n    if num%3 == 0 and num%5 == 0:\n        fizzbuzz.append(fb[0])\n    elif num%3 == 0:\n        fizzbuzz.append(fb[1])\n    elif num%5 == 0:\n        fizzbuzz.append(fb[2])\n    else:\n        fizzbuzz.append(num)\nprint(fizzbuzz)",
      "execution_count": 6,
      "outputs": [
        {
          "output_type": "stream",
          "text": "[1, 2, 'Fizz', 4, 'Buzz', 'Fizz', 7, 8, 'Fizz', 'Buzz', 11, 'Fizz', 13, 14, 'FizzBuzz', 16, 17, 'Fizz', 19, 'Buzz', 'Fizz', 22, 23, 'Fizz', 'Buzz', 26, 'Fizz', 28, 29, 'FizzBuzz', 31, 32, 'Fizz', 34, 'Buzz', 'Fizz', 37, 38, 'Fizz', 'Buzz', 41, 'Fizz', 43, 44, 'FizzBuzz', 46, 47, 'Fizz', 49, 'Buzz', 'Fizz', 52, 53, 'Fizz', 'Buzz', 56, 'Fizz', 58, 59, 'FizzBuzz', 61, 62, 'Fizz', 64, 'Buzz', 'Fizz', 67, 68, 'Fizz', 'Buzz', 71, 'Fizz', 73, 74, 'FizzBuzz', 76, 77, 'Fizz', 79, 'Buzz', 'Fizz', 82, 83, 'Fizz', 'Buzz', 86, 'Fizz', 88, 89, 'FizzBuzz', 91, 92, 'Fizz', 94, 'Buzz', 'Fizz', 97, 98, 'Fizz', 'Buzz']\n",
          "name": "stdout"
        }
      ]
    },
    {
      "metadata": {
        "trusted": true
      },
      "cell_type": "code",
      "source": "",
      "execution_count": null,
      "outputs": []
    }
  ],
  "metadata": {
    "anaconda-cloud": {},
    "kernelspec": {
      "name": "python3",
      "display_name": "Python 3",
      "language": "python"
    },
    "language_info": {
      "mimetype": "text/x-python",
      "nbconvert_exporter": "python",
      "name": "python",
      "pygments_lexer": "ipython3",
      "version": "3.5.4",
      "file_extension": ".py",
      "codemirror_mode": {
        "version": 3,
        "name": "ipython"
      }
    }
  },
  "nbformat": 4,
  "nbformat_minor": 2
}